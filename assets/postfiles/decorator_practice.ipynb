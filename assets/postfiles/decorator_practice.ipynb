{
 "cells": [
  {
   "cell_type": "markdown",
   "id": "4ea4c588",
   "metadata": {},
   "source": [
    "## 데코레이터 연습 파일"
   ]
  },
  {
   "cell_type": "code",
   "execution_count": null,
   "id": "2ff2bf0e",
   "metadata": {},
   "outputs": [],
   "source": [
    "## 가장 간단한 custom 데코레이터 예제\n",
    "\n",
    "# 함수를 인자로 받는 함수\n",
    "def deco(f):\n",
    "    print(\"deco!\")\n",
    "    return f    # 원래 함수를 그대로 반환"
   ]
  },
  {
   "cell_type": "code",
   "execution_count": 6,
   "id": "1412cdfe",
   "metadata": {},
   "outputs": [
    {
     "name": "stdout",
     "output_type": "stream",
     "text": [
      "deco!\n"
     ]
    }
   ],
   "source": [
    "@deco\n",
    "def double(x) :\n",
    "    return x * 2"
   ]
  },
  {
   "cell_type": "code",
   "execution_count": 9,
   "id": "6aa9b54f",
   "metadata": {},
   "outputs": [
    {
     "name": "stdout",
     "output_type": "stream",
     "text": [
      "20\n"
     ]
    }
   ],
   "source": [
    "print(double(10))"
   ]
  },
  {
   "cell_type": "code",
   "execution_count": null,
   "id": "2685eceb",
   "metadata": {},
   "outputs": [
    {
     "name": "stdout",
     "output_type": "stream",
     "text": [
      "deco!\n"
     ]
    }
   ],
   "source": [
    "## 데코레이터를 사용하지 않고 직접 적용할 수도 있음\n",
    "\n",
    "def double(x) :\n",
    "    return x * 2\n",
    "\n",
    "double = deco(double)"
   ]
  },
  {
   "cell_type": "code",
   "execution_count": 8,
   "id": "ba8bc379",
   "metadata": {},
   "outputs": [
    {
     "name": "stdout",
     "output_type": "stream",
     "text": [
      "20\n"
     ]
    }
   ],
   "source": [
    "print(double(10))"
   ]
  },
  {
   "cell_type": "code",
   "execution_count": null,
   "id": "50f19f6d",
   "metadata": {},
   "outputs": [
    {
     "name": "stdout",
     "output_type": "stream",
     "text": [
      "deco!\n"
     ]
    }
   ],
   "source": [
    "## 함수가 아니라 다른 걸 반환해도 됨\n",
    "\n",
    "def deco(f):\n",
    "    print(\"deco!\")\n",
    "    return 10\n",
    "\n",
    "@deco\n",
    "def double(x) :\n",
    "    return x * 2\n"
   ]
  },
  {
   "cell_type": "code",
   "execution_count": 5,
   "id": "86f59794",
   "metadata": {},
   "outputs": [
    {
     "data": {
      "text/plain": [
       "10"
      ]
     },
     "execution_count": 5,
     "metadata": {},
     "output_type": "execute_result"
    }
   ],
   "source": [
    "double"
   ]
  },
  {
   "cell_type": "code",
   "execution_count": null,
   "id": "e3f0ffc8",
   "metadata": {},
   "outputs": [],
   "source": [
    "## 함수를 변형한 새 함수를 만들 수 있음\n",
    "\n",
    "def deco(fn):\n",
    "    def deco_hello():\n",
    "        print(\"*\" * 20)\n",
    "        fn()\n",
    "        print(\"*\" * 20)\n",
    "    return deco_hello\n",
    "\n",
    "@deco\n",
    "def hello():\n",
    "    print(\"hello\")"
   ]
  },
  {
   "cell_type": "code",
   "execution_count": 22,
   "id": "f0e2f80f",
   "metadata": {},
   "outputs": [
    {
     "name": "stdout",
     "output_type": "stream",
     "text": [
      "********************\n",
      "hello\n",
      "********************\n"
     ]
    }
   ],
   "source": [
    "hello()"
   ]
  },
  {
   "cell_type": "code",
   "execution_count": null,
   "id": "bc287586",
   "metadata": {},
   "outputs": [],
   "source": [
    "## 클래스로 데코레이터 만들기\n",
    "\n",
    "class Deco():\n",
    "    def __init__(self, n):\n",
    "        print(\"deco init\")\n",
    "        self.n = n\n",
    "    \n",
    "    def __call__(self, f):\n",
    "        print(\"deco call\")\n",
    "        return f\n",
    "        "
   ]
  },
  {
   "cell_type": "code",
   "execution_count": null,
   "id": "e64eca03",
   "metadata": {},
   "outputs": [
    {
     "name": "stdout",
     "output_type": "stream",
     "text": [
      "deco init\n",
      "deco call\n"
     ]
    }
   ],
   "source": [
    "@Deco(3)\n",
    "def double(x) :\n",
    "    return x * 2"
   ]
  },
  {
   "cell_type": "code",
   "execution_count": 21,
   "id": "6a0f8038",
   "metadata": {},
   "outputs": [
    {
     "data": {
      "text/plain": [
       "20"
      ]
     },
     "execution_count": 21,
     "metadata": {},
     "output_type": "execute_result"
    }
   ],
   "source": [
    "double(10)"
   ]
  },
  {
   "cell_type": "code",
   "execution_count": 22,
   "id": "3b882a1c",
   "metadata": {},
   "outputs": [],
   "source": [
    "class Deco():\n",
    "    def __init__(self, n):\n",
    "        print(\"deco init\")\n",
    "        self.n = n\n",
    "    \n",
    "    def __call__(self, f):\n",
    "        print(\"deco call\")\n",
    "        def newf(*args, **kwargs):\n",
    "            print(\"deco newf\")\n",
    "            return f(*args, **kwargs) * self.n  \n",
    "        return newf\n",
    "        "
   ]
  },
  {
   "cell_type": "code",
   "execution_count": 23,
   "id": "8e5a8e3d",
   "metadata": {},
   "outputs": [
    {
     "name": "stdout",
     "output_type": "stream",
     "text": [
      "deco init\n",
      "deco call\n"
     ]
    }
   ],
   "source": [
    "@Deco(3)\n",
    "def double(x) :\n",
    "    return x * 2"
   ]
  },
  {
   "cell_type": "code",
   "execution_count": 29,
   "id": "5254e9b5",
   "metadata": {},
   "outputs": [
    {
     "name": "stdout",
     "output_type": "stream",
     "text": [
      "deco newf\n",
      "30\n"
     ]
    }
   ],
   "source": [
    "ans = double(5)\n",
    "print(ans)"
   ]
  },
  {
   "cell_type": "code",
   "execution_count": null,
   "id": "3206ccbc",
   "metadata": {},
   "outputs": [
    {
     "name": "stdout",
     "output_type": "stream",
     "text": [
      "함수가 실행됩니다.\n",
      "slow_function 실행 시간: 1.0015초\n"
     ]
    }
   ],
   "source": [
    "## Timer 데코레이터 예제\n",
    "\n",
    "import time\n",
    "\n",
    "def timer(func):                            # 기존 함수를 인수로 받는다.\n",
    "    def wrapper(*args, **kwargs):\n",
    "        start = time.time()\n",
    "        result = func(*args, **kwargs)      # 기존 함수를 수행한다.\n",
    "        end = time.time()\n",
    "        print(f\"{func.__name__} 실행 시간: {end - start:.4f}초\")    # 기존 함수의 수행시간을 출력한다.\n",
    "        return result                       # 기존 함수의 수행 결과를 리턴한다.\n",
    "    return wrapper\n",
    "\n",
    "@timer\n",
    "def slow_function():\n",
    "    print(\"함수가 실행됩니다.\")\n",
    "    time.sleep(1)\n",
    "\n",
    "slow_function()\n"
   ]
  },
  {
   "cell_type": "code",
   "execution_count": null,
   "id": "e2d1c3dd",
   "metadata": {},
   "outputs": [
    {
     "name": "stdout",
     "output_type": "stream",
     "text": [
      "Alice의 프로필입니다.\n",
      "로그인이 필요합니다.\n"
     ]
    }
   ],
   "source": [
    "## Login 여부 확인 데코레이터 예제\n",
    "\n",
    "def require_login(func):\n",
    "    def wrapper(user, *args, **kwargs):\n",
    "        if not user.get(\"is_authenticated\"):\n",
    "            print(\"로그인이 필요합니다.\")\n",
    "            return None\n",
    "        return func(user, *args, **kwargs)\n",
    "    return wrapper\n",
    "\n",
    "@require_login\n",
    "def view_profile(user):\n",
    "    print(f\"{user['name']}의 프로필입니다.\")\n",
    "\n",
    "user1 = {\"name\": \"Alice\", \"is_authenticated\": True}\n",
    "user2 = {\"name\": \"Bob\", \"is_authenticated\": False}\n",
    "\n",
    "view_profile(user1)  # 출력: Alice의 프로필입니다.\n",
    "view_profile(user2)  # 출력: 로그인이 필요합니다.\n"
   ]
  },
  {
   "cell_type": "code",
   "execution_count": null,
   "id": "d9c81f6d",
   "metadata": {},
   "outputs": [
    {
     "name": "stdout",
     "output_type": "stream",
     "text": [
      "Hi!\n",
      "Hi!\n",
      "Hi!\n"
     ]
    }
   ],
   "source": [
    "## Repeat 데코레이터 예제\n",
    "\n",
    "def repeat(n):\n",
    "    def decorator(func):\n",
    "        def wrapper(*args, **kwargs):\n",
    "            for _ in range(n):\n",
    "                func(*args, **kwargs)\n",
    "        return wrapper\n",
    "    return decorator\n",
    "\n",
    "@repeat(3)\n",
    "def greet():\n",
    "    print(\"Hi!\")\n",
    "\n",
    "greet()"
   ]
  },
  {
   "cell_type": "code",
   "execution_count": null,
   "id": "9fee80b4",
   "metadata": {},
   "outputs": [
    {
     "name": "stdout",
     "output_type": "stream",
     "text": [
      "8\n"
     ]
    }
   ],
   "source": [
    "## staticmethod 데코레이터 예제\n",
    "\n",
    "class Math:\n",
    "    @staticmethod\n",
    "    def add(x, y):\n",
    "        return x + y\n",
    "\n",
    "print(Math.add(3, 5))"
   ]
  },
  {
   "cell_type": "code",
   "execution_count": null,
   "id": "e8b7e63c",
   "metadata": {},
   "outputs": [
    {
     "name": "stdout",
     "output_type": "stream",
     "text": [
      "Alice\n"
     ]
    }
   ],
   "source": [
    "## classmethod 데코레이터 예제\n",
    "\n",
    "class Person:\n",
    "    def __init__(self, name):\n",
    "        self.name = name\n",
    "\n",
    "    @classmethod\n",
    "    def from_string(cls, s):\n",
    "        name = s.strip().title()\n",
    "        return cls(name)\n",
    "\n",
    "p = Person.from_string(\" alice \")\n",
    "print(p.name)"
   ]
  },
  {
   "cell_type": "code",
   "execution_count": null,
   "id": "7ab07565",
   "metadata": {},
   "outputs": [
    {
     "name": "stdout",
     "output_type": "stream",
     "text": [
      "10\n",
      "10.0\n"
     ]
    }
   ],
   "source": [
    "## property 데코레이터 예제 - getter, setter\n",
    "\n",
    "class Circle:\n",
    "    def __init__(self, radius):\n",
    "        self._radius = radius\n",
    "\n",
    "    @property\n",
    "    def diameter(self):\n",
    "        return self._radius * 2\n",
    "\n",
    "    @diameter.setter\n",
    "    def diameter(self, d):\n",
    "        self._radius = d / 2\n",
    "\n",
    "c = Circle(5)\n",
    "print(c.diameter)\n",
    "c.diameter = 20\n",
    "print(c._radius)"
   ]
  },
  {
   "cell_type": "code",
   "execution_count": null,
   "id": "3057067e",
   "metadata": {},
   "outputs": [
    {
     "name": "stdout",
     "output_type": "stream",
     "text": [
      "Deleting password...\n"
     ]
    },
    {
     "ename": "AttributeError",
     "evalue": "'User' object has no attribute '_password'",
     "output_type": "error",
     "traceback": [
      "\u001b[1;31m---------------------------------------------------------------------------\u001b[0m",
      "\u001b[1;31mAttributeError\u001b[0m                            Traceback (most recent call last)",
      "Cell \u001b[1;32mIn[39], line 23\u001b[0m\n\u001b[0;32m     21\u001b[0m u \u001b[38;5;241m=\u001b[39m User(\u001b[38;5;124m\"\u001b[39m\u001b[38;5;124malice\u001b[39m\u001b[38;5;124m\"\u001b[39m, \u001b[38;5;124m\"\u001b[39m\u001b[38;5;124msecret123\u001b[39m\u001b[38;5;124m\"\u001b[39m)\n\u001b[0;32m     22\u001b[0m \u001b[38;5;28;01mdel\u001b[39;00m u\u001b[38;5;241m.\u001b[39mpassword   \u001b[38;5;66;03m# → \"Deleting password...\"\u001b[39;00m\n\u001b[1;32m---> 23\u001b[0m \u001b[38;5;28mprint\u001b[39m(\u001b[43mu\u001b[49m\u001b[38;5;241;43m.\u001b[39;49m\u001b[43m_password\u001b[49m)  \u001b[38;5;66;03m# ❌ AttributeError: '_password' is gone\u001b[39;00m\n",
      "\u001b[1;31mAttributeError\u001b[0m: 'User' object has no attribute '_password'"
     ]
    }
   ],
   "source": [
    "## property 데코레이터 예제 - deleter\n",
    "\n",
    "class User:\n",
    "    def __init__(self, username, password):\n",
    "        self._username = username\n",
    "        self._password = password\n",
    "\n",
    "    @property\n",
    "    def password(self):\n",
    "        raise AttributeError(\"Password is write-only\")\n",
    "\n",
    "    @password.setter\n",
    "    def password(self, new_password):\n",
    "        if len(new_password) < 6:\n",
    "            raise ValueError(\"Password too short\")\n",
    "        self._password = new_password\n",
    "\n",
    "    @password.deleter\n",
    "    def password(self):\n",
    "        print(\"Deleting password...\")\n",
    "        del self._password\n",
    "\n",
    "u = User(\"alice\", \"secret123\")\n",
    "del u.password   # → \"Deleting password...\"\n",
    "print(u._password)  # AttributeError: '_password' is gone\n"
   ]
  },
  {
   "cell_type": "code",
   "execution_count": null,
   "id": "46b62010",
   "metadata": {},
   "outputs": [
    {
     "name": "stdout",
     "output_type": "stream",
     "text": [
      "1\n",
      "2\n",
      "3\n"
     ]
    }
   ],
   "source": [
    "## contextmanager 데코레이터 예제\n",
    "\n",
    "from contextlib import contextmanager\n",
    "import os\n",
    "\n",
    "@contextmanager\n",
    "def open_file(path, mode):\n",
    "    # 폴더가 있는 지 검사해서 없으면 만들어주는 context manager\n",
    "    dir_name = os.path.dirname(path)\n",
    "    if not os.path.exists(dir_name):\n",
    "        os.makedirs(dir_name)\n",
    "    print(1)\n",
    "    \n",
    "    f = open(path, mode)\n",
    "    try:\n",
    "        yield f\n",
    "    finally:    \n",
    "        f.close()\n",
    "        print(3)\n",
    "\n",
    "with open_file(\"../example.txt\", \"w\") as f:\n",
    "    f.write(\"Hello, context manager!\")\n",
    "    print(2)"
   ]
  },
  {
   "cell_type": "code",
   "execution_count": null,
   "id": "dbe67c3c",
   "metadata": {},
   "outputs": [
    {
     "name": "stdout",
     "output_type": "stream",
     "text": [
      "Ignored exception: list index out of range\n"
     ]
    }
   ],
   "source": [
    "## contextmanager 데코레이터 예제 2\n",
    "\n",
    "@contextmanager\n",
    "def ignoring(*exceptions):\n",
    "    try:\n",
    "        yield\n",
    "    except exceptions as e:\n",
    "        print(f\"Ignored exception: {e}\")\n",
    "        pass\n",
    "\n",
    "arr = [1,2]\n",
    "\n",
    "# 이 안에서는 IndexError를 무시한다.\n",
    "with ignoring(IndexError):\n",
    "    print(arr[3])"
   ]
  },
  {
   "cell_type": "code",
   "execution_count": null,
   "id": "a8b250f7",
   "metadata": {},
   "outputs": [
    {
     "name": "stdout",
     "output_type": "stream",
     "text": [
      "Calling greet1\n",
      "Hello!\n",
      "----\n",
      "Calling greet2\n",
      "Hello!\n",
      "====\n",
      "<function log1.<locals>.wrapper at 0x000001E2410F04A0>\n",
      "----\n",
      "<function greet2 at 0x000001E2410D3420>\n",
      "====\n",
      "greet2\n",
      "Greet the user\n"
     ]
    }
   ],
   "source": [
    "## wraps 데코레이터 예제\n",
    "\n",
    "from functools import wraps\n",
    "def log1(func):\n",
    "    def wrapper(*args, **kwargs):\n",
    "        print(f\"Calling {func.__name__}\")\n",
    "        return func(*args, **kwargs)\n",
    "    return wrapper\n",
    "\n",
    "def log2(func):\n",
    "    @wraps(func)\n",
    "    def wrapper(*args, **kwargs):\n",
    "        print(f\"Calling {func.__name__}\")\n",
    "        return func(*args, **kwargs)\n",
    "    return wrapper\n",
    "\n",
    "@log1\n",
    "def greet1():\n",
    "    \"\"\"Greet the user\"\"\"\n",
    "    print(\"Hello!\")\n",
    "\n",
    "@log2\n",
    "def greet2():\n",
    "    \"\"\"Greet the user\"\"\"\n",
    "    print(\"Hello!\")\n",
    "\n",
    "greet1()\n",
    "print(\"----\")\n",
    "greet2()\n",
    "print(\"====\")\n",
    "print(greet1)\n",
    "print(\"----\")\n",
    "print(greet2)\n",
    "print(\"====\")\n",
    "print(greet2.__name__)\n",
    "print(greet2.__doc__)"
   ]
  },
  {
   "cell_type": "code",
   "execution_count": null,
   "id": "58f79e74",
   "metadata": {},
   "outputs": [
    {
     "name": "stdout",
     "output_type": "stream",
     "text": [
      "Thinking about Python...\n",
      "NO\n",
      "Thinking about Java...\n",
      "NO\n",
      "NO\n"
     ]
    }
   ],
   "source": [
    "## LRU Cache 데코레이터 예제\n",
    "\n",
    "from time import sleep\n",
    "from functools import lru_cache\n",
    "\n",
    "@lru_cache()\n",
    "def think(idea):\n",
    "    print(f\"Thinking about {idea}...\")\n",
    "    sleep(2)\n",
    "    return \"NO\"\n",
    "\n",
    "print(think(\"Python\"))\n",
    "print(think(\"Java\"))    # 새로운 아이디어는 다시 생각해야 함\n",
    "print(think(\"Python\"))  # 캐시된 결과를 사용하여 빠르게 반환"
   ]
  },
  {
   "cell_type": "code",
   "execution_count": null,
   "id": "6a3031af",
   "metadata": {},
   "outputs": [
    {
     "name": "stdout",
     "output_type": "stream",
     "text": [
      "Thinking about Python...\n",
      "NO\n",
      "Thinking about Java...\n",
      "NO\n",
      "NO\n"
     ]
    }
   ],
   "source": [
    "## LRU Cache와 동일기능 함수 예제\n",
    "\n",
    "def think2(idea, cache=dict()):\n",
    "    if idea in cache:\n",
    "        return cache[idea]\n",
    "    print(f\"Thinking about {idea}...\")\n",
    "    sleep(2)\n",
    "    result = \"NO\"\n",
    "    cache[idea] = result\n",
    "    return result\n",
    "\n",
    "print(think2(\"Python\"))\n",
    "print(think2(\"Java\"))    # 새로운 아이디어는 다시 생각해야 함\n",
    "print(think2(\"Python\"))  # 캐시된 결과를 사용하여 빠르게 반환"
   ]
  }
 ],
 "metadata": {
  "kernelspec": {
   "display_name": "basic",
   "language": "python",
   "name": "python3"
  },
  "language_info": {
   "codemirror_mode": {
    "name": "ipython",
    "version": 3
   },
   "file_extension": ".py",
   "mimetype": "text/x-python",
   "name": "python",
   "nbconvert_exporter": "python",
   "pygments_lexer": "ipython3",
   "version": "3.12.9"
  }
 },
 "nbformat": 4,
 "nbformat_minor": 5
}
